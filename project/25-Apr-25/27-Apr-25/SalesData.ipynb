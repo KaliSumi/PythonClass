{
 "cells": [
  {
   "cell_type": "code",
   "execution_count": null,
   "id": "f4377ac5",
   "metadata": {},
   "outputs": [],
   "source": [
    "import numpy as np \n",
    "import pandas as pd \n",
    "import matplotlib.pyplot as plt \n",
    "import seaborn as sns \n",
    "from sklearn.model_selection import train_test_split\n",
    "from sklearn.linear_model import LinearRegression\n",
    "\n",
    "df = pd.read_csv(\"Stores (1).csv\")\n",
    "print(df.head())\n",
    "print(df.describe())\n",
    "print(df.info())\n",
    "df.isnull().sum()\n",
    "df.duplicated().sum()\n",
    "# Correlation heatmap\n",
    "plt.figure(figsize=(8, 6))\n",
    "sns.heatmap(df.corr(), annot=True, cmap=\"coolwarm\")\n",
    "plt.title(\"Feature Correlation\")\n",
    "plt.show()\n",
    "\n",
    "# Scatterplot: DailyCustomerCount vs Store_Sales\n",
    "sns.scatterplot(x=\"Daily_Customer_Count\", y=\"Store_Sales\", data=df)\n",
    "plt.title(\"Customers vs Sales\")\n",
    "plt.show()\n",
    "\n",
    "# Scatterplot: Store_Area vs Store_Sales\n",
    "sns.scatterplot(x=\"Store_Area\", y=\"Store_Sales\", data=df)\n",
    "plt.title(\"Store Area vs Sales\")\n",
    "plt.show()\n",
    "X = df[['Store_Area', 'Items_Available', 'Daily_Customer_Count']]\n",
    "y = df['Store_Sales']\n",
    "\n",
    "# Split into train/test sets\n",
    "X_train, X_test, y_train, y_test = train_test_split(X, y, test_size=0.2, random_state=42)\n",
    "\n",
    "# Train a linear regression model\n",
    "model = LinearRegression()\n",
    "model.fit(X_train, y_train)\n",
    "\n",
    "# Make predictions\n",
    "y_pred = model.predict(X_test)\n",
    "\n",
    "# Plot actual vs predicted\n",
    "plt.figure(figsize=(8,6))\n",
    "plt.scatter(y_test, y_pred)\n",
    "plt.xlabel(\"Actual Sales\")\n",
    "plt.ylabel(\"Predicted Sales\")\n",
    "plt.title(\"Actual vs Predicted Store Sales\")\n",
    "plt.plot([y.min(), y.max()], [y.min(), y.max()], 'k--', lw=2)\n",
    "plt.show()"
   ]
  }
 ],
 "metadata": {
  "language_info": {
   "name": "python"
  }
 },
 "nbformat": 4,
 "nbformat_minor": 5
}
